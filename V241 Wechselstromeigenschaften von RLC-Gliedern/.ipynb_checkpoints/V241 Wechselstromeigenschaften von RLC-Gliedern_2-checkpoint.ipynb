{
 "cells": [
  {
   "cell_type": "markdown",
   "metadata": {},
   "source": [
    "# Versuch 241: Wechselstromeigenschaften von RLC-Gliedern"
   ]
  },
  {
   "cell_type": "markdown",
   "metadata": {},
   "source": [
    "## Auswertung der Messergebnisse "
   ]
  },
  {
   "cell_type": "code",
   "execution_count": 1,
   "metadata": {
    "collapsed": true
   },
   "outputs": [],
   "source": [
    "#Benötigte Pakete\n",
    "import numpy as np\n",
    "import matplotlib.pyplot as plt\n",
    "%matplotlib inline \n",
    "plt.style.use('seaborn-white')\n",
    "plt.rcParams['errorbar.capsize']=2\n",
    "from scipy.optimize import curve_fit"
   ]
  },
  {
   "cell_type": "markdown",
   "metadata": {},
   "source": [
    "### Teil 1: Bestimmung der Zeitkonstante eines RC-Glieds"
   ]
  },
  {
   "cell_type": "code",
   "execution_count": 2,
   "metadata": {
    "collapsed": true
   },
   "outputs": [],
   "source": [
    "#Bestimmung der Halbwertszeit bei der Spannungsmessung\n",
    "\n",
    "#erste Messreihe\n",
    "C1=470e-9 #Farad\n",
    "C1_err=0.1*C1 \n",
    "\n",
    "R1=1e3 #Ohm\n",
    "R1_err=0.05*R1\n",
    "\n",
    "f1=140 #Hertz\n",
    "\n",
    "#es wurde zur Erhöhung der Genauigkeit die Zeit für 3x T_hw gemessen.\n",
    "T_hw1=0.99e-3/3 #s\n",
    "T_hw1_err=0.1e-3/3 #s\n",
    "\n",
    "#zweite Messreihe\n",
    "C2=4.7e-9 \n",
    "C2_err=0.1*C2\n",
    "\n",
    "R2=10e3\n",
    "R2_err=0.05*R2\n",
    "\n",
    "f2=1600\n",
    "\n",
    "T_hw2=96e-6/3\n",
    "T_hw2_err=10e-6/3\n",
    "\n",
    "#dritte Messreihe\n",
    "C3=47e-9\n",
    "C3_err=0.1*C3\n",
    "\n",
    "R3=R1\n",
    "R3_err=R1_err\n",
    "\n",
    "f3=f2\n",
    "\n",
    "T_hw3=111e-6/3\n",
    "T_hw3_err=T_hw2_err"
   ]
  },
  {
   "cell_type": "code",
   "execution_count": 3,
   "metadata": {
    "collapsed": true
   },
   "outputs": [],
   "source": [
    "#Halbwertszeit beim Stromverlauf\n",
    "C4=47e-9\n",
    "C4_err=0.1*C4\n",
    "\n",
    "R4=R1\n",
    "R4_err=R1_err\n",
    "\n",
    "f4=f2\n",
    "\n",
    "T_hw4=112e-6/3\n",
    "T_hw4_err=T_hw2_err"
   ]
  },
  {
   "cell_type": "code",
   "execution_count": 4,
   "metadata": {
    "collapsed": false
   },
   "outputs": [
    {
     "name": "stdout",
     "output_type": "stream",
     "text": [
      "Für die theoretischen Werte wurde ermittelt:\n",
      "tau_theo1 = 0.00047 +/- 5.25475974712e-05\n",
      "tau_theo2 = 4.7e-05 +/- 5.25475974712e-06\n",
      "tau_theo3 = 4.7e-05 +/- 5.25475974712e-06\n"
     ]
    }
   ],
   "source": [
    "#Theoretische Werte für Tau=R*C\n",
    "\n",
    "tau_theo1= R1*C1 \n",
    "#Fehler aus Fehlerfortpflanzung\n",
    "tau_theo1_err=np.sqrt((C1*R1_err)**2+(R1*C1_err)**2)\n",
    "\n",
    "tau_theo2= R2*C2 \n",
    "tau_theo2_err=np.sqrt((C2*R2_err)**2+(R2*C2_err)**2)\n",
    "\n",
    "tau_theo3= R3*C3 \n",
    "tau_theo3_err=np.sqrt((C3*R3_err)**2+(R3*C3_err)**2)\n",
    "\n",
    "print('Für die theoretischen Werte wurde ermittelt:')\n",
    "print('tau_theo1 = ' + str(tau_theo1) + ' +/- ' + str(tau_theo1_err))\n",
    "print('tau_theo2 = ' + str(tau_theo2) + ' +/- ' + str(tau_theo2_err))\n",
    "print('tau_theo3 = ' + str(tau_theo3) + ' +/- ' + str(tau_theo3_err))"
   ]
  },
  {
   "cell_type": "code",
   "execution_count": 5,
   "metadata": {
    "collapsed": false
   },
   "outputs": [
    {
     "name": "stdout",
     "output_type": "stream",
     "text": [
      "Für die experimentellen Werte wurde ermittelt:\n",
      "tau_exp1 = 0.000476089363493 +/- 4.80898346963e-05\n",
      "tau_exp2 = 4.61662413084e-05 +/- 4.80898346963e-06\n",
      "tau_exp3 = 5.33797165129e-05 +/- 4.80898346963e-06\n"
     ]
    }
   ],
   "source": [
    "#Experimentelle Werte für Tau=T_hw/ln(2) \n",
    "\n",
    "tau_exp1=T_hw1/np.log(2)\n",
    "#Fehler aus Fehlerfortpflanzung\n",
    "tau_exp1_err=T_hw1_err/np.log(2)\n",
    "\n",
    "tau_exp2=T_hw2/np.log(2)\n",
    "tau_exp2_err=T_hw2_err/np.log(2)\n",
    "\n",
    "tau_exp3=T_hw3/np.log(2)\n",
    "tau_exp3_err=T_hw3_err/np.log(2)\n",
    "\n",
    "print('Für die experimentellen Werte wurde ermittelt:')\n",
    "print('tau_exp1 = ' + str(tau_exp1) + ' +/- ' + str(tau_exp1_err))\n",
    "print('tau_exp2 = ' + str(tau_exp2) + ' +/- ' + str(tau_exp2_err))\n",
    "print('tau_exp3 = ' + str(tau_exp3) + ' +/- ' + str(tau_exp3_err))"
   ]
  },
  {
   "cell_type": "code",
   "execution_count": 6,
   "metadata": {
    "collapsed": false
   },
   "outputs": [
    {
     "name": "stdout",
     "output_type": "stream",
     "text": [
      "Der Vergleich der theoretischen und experimentellen Werte liefert:\n",
      "∆(tau1) = 6.08936349336e-06 +/- 7.12311884017e-05 => sigma= 0.0854873213545\n",
      "∆(tau2) = 8.33758691553e-07 +/- 7.12311884017e-06 => sigma= 0.117049667465\n",
      "∆(tau3) = 6.37971651289e-06 +/- 7.12311884017e-06 => sigma= 0.895635276631\n"
     ]
    }
   ],
   "source": [
    "#Vergleich der experimentellen und theoretischen Werte \n",
    "diff_tau1=np.abs(tau_theo1-tau_exp1)\n",
    "diff_tau1_err=np.sqrt((tau_theo1_err)**2+(tau_exp1_err)**2)\n",
    "\n",
    "diff_tau2=np.abs(tau_theo2-tau_exp2)\n",
    "diff_tau2_err=np.sqrt((tau_theo2_err)**2+(tau_exp2_err)**2)\n",
    "\n",
    "diff_tau3=np.abs(tau_theo3-tau_exp3)\n",
    "diff_tau3_err=np.sqrt((tau_theo3_err)**2+(tau_exp3_err)**2)\n",
    "\n",
    "print('Der Vergleich der theoretischen und experimentellen Werte liefert:')\n",
    "print('∆(tau1) = ' + str(diff_tau1) + ' +/- ' + str(diff_tau1_err)+' => sigma= '+str(diff_tau1/diff_tau1_err))\n",
    "print('∆(tau2) = ' + str(diff_tau2) + ' +/- ' + str(diff_tau2_err)+' => sigma= '+str(diff_tau2/diff_tau2_err))\n",
    "print('∆(tau3) = ' + str(diff_tau3) + ' +/- ' + str(diff_tau3_err)+' => sigma= '+str(diff_tau3/diff_tau3_err))"
   ]
  },
  {
   "cell_type": "code",
   "execution_count": 7,
   "metadata": {
    "collapsed": false
   },
   "outputs": [
    {
     "name": "stdout",
     "output_type": "stream",
     "text": [
      "Aus der Strommessung ergeben sich die folgenden Werte:\n",
      "tau_theo_I = 4.7e-05 +/- 5.25475974712e-06\n",
      "tau_exp_I = 5.38606148599e-05 +/- 4.80898346963e-06\n",
      "\n",
      "Für die Differenz Theorie-Experiment bei der Strommessung folgt somit:\n",
      "∆(tau4) = 6.86061485985e-06 +/- 7.12311884017e-06 => sigma= 0.963147606238\n"
     ]
    }
   ],
   "source": [
    "#Zum Vergleich: Werte aus der Strommessung\n",
    "tau_theo4=R4*C4\n",
    "tau_theo4_err=np.sqrt((C4*R4_err)**2+(R4*C4_err)**2)\n",
    "\n",
    "tau_exp4=T_hw4/np.log(2)\n",
    "tau_exp4_err=T_hw4_err/np.log(2)\n",
    "\n",
    "print('Aus der Strommessung ergeben sich die folgenden Werte:')\n",
    "print('tau_theo_I = ' + str(tau_theo4) + ' +/- ' + str(tau_theo4_err))\n",
    "print('tau_exp_I = ' + str(tau_exp4) + ' +/- ' + str(tau_exp4_err))\n",
    "print()\n",
    "\n",
    "diff_tau4=np.abs(tau_theo4-tau_exp4)\n",
    "diff_tau4_err=np.sqrt((tau_theo4_err)**2+(tau_exp4_err)**2)\n",
    "\n",
    "print('Für die Differenz Theorie-Experiment bei der Strommessung folgt somit:')\n",
    "print('∆(tau4) = ' + str(diff_tau4) + ' +/- ' + str(diff_tau4_err)+' => sigma= '+str(diff_tau4/diff_tau4_err))"
   ]
  },
  {
   "cell_type": "markdown",
   "metadata": {},
   "source": [
    "### Teil 2: RC-Glied als Integrator und Differentiator"
   ]
  },
  {
   "cell_type": "markdown",
   "metadata": {},
   "source": [
    "Dieser Aufgabenteil wird direkt anhand der während des Versuchs erstellten Diagramme diskutiert und im Protokollheft aufgeschrieben."
   ]
  },
  {
   "cell_type": "markdown",
   "metadata": {},
   "source": [
    "### Teil 3: Frequenz- und Phasengang eines RC-Glieds"
   ]
  },
  {
   "cell_type": "code",
   "execution_count": 8,
   "metadata": {
    "collapsed": true
   },
   "outputs": [],
   "source": [
    "#Bestimmung der Grenzfrequenzen am Circuit Analyzer\n",
    "\n",
    "#Tiefpass\n",
    "freq_grenz_tp=3.03*1e3 #Hz\n",
    "freq_grenz_tp_err=0.15*1e3\n",
    "\n",
    "#Hochpass\n",
    "freq_grenz_hp=3.21*1e3\n",
    "freq_grenz_hp_err=freq_grenz_tp_err"
   ]
  },
  {
   "cell_type": "markdown",
   "metadata": {},
   "source": [
    "#### Phasengang am Hochpass"
   ]
  },
  {
   "cell_type": "code",
   "execution_count": 9,
   "metadata": {
    "collapsed": true
   },
   "outputs": [],
   "source": [
    "#Frequenzen \n",
    "freq=1e3*np.array([1,2,3,4,5,6,7,8,9,10])\n",
    "\n",
    "#Phasenunterschiede ∆t mit Fehler\n",
    "delta_t=1e-6*np.array([200.0,81.0,44.4,28.4,19.2,14.0,10.7,8.7,6.2,4.9])\n",
    "delta_t_err=1e-6*np.array([20,10,10,5,5,5,3,3,3,2])\n",
    "\n",
    "#Phase umgerechnet in Winkel \n",
    "phi=360*freq*delta_t\n",
    "phi_err=phi*np.sqrt((delta_t_err/delta_t)**2)"
   ]
  },
  {
   "cell_type": "code",
   "execution_count": 10,
   "metadata": {
    "collapsed": true
   },
   "outputs": [],
   "source": [
    "#Berechnen der Fit-Funktion \n",
    "omega=2*np.pi*np.linspace(300,20000,10000)\n",
    "phi_theo=np.arctan(1/(omega*R1*C3))*(360/(2*np.pi))"
   ]
  },
  {
   "cell_type": "code",
   "execution_count": 11,
   "metadata": {
    "collapsed": false
   },
   "outputs": [
    {
     "data": {
      "text/plain": [
       "<matplotlib.legend.Legend at 0x10ad8cbe0>"
      ]
     },
     "execution_count": 11,
     "metadata": {},
     "output_type": "execute_result"
    },
    {
     "data": {
      "image/png": "[encoded data removed]",
      "text/plain": [
       "<matplotlib.figure.Figure at 0x10aaae828>"
      ]
     },
     "metadata": {},
     "output_type": "display_data"
    }
   ],
   "source": [
    "plt.plot(freq, phi, marker='.',markersize=5, color='black',linewidth=1,linestyle=' ')\n",
    "plt.xscale('log')\n",
    "plt.errorbar(freq,phi,yerr=phi_err,linewidth=1,linestyle='',color='darkred',label='Messwerte mit Fehler')\n",
    "plt.xlabel('Frequenz ['+'$KHz$]', size=15)\n",
    "plt.ylabel('Phase'+ ' '+r'$\\phi$' + r' [°]' , size=15)\n",
    "plt.title(r'Diagramm 20: Phasenverschiebung $\\phi$ beim Hochpass ', size=14)\n",
    "plt.grid(ls='dotted')\n",
    "plt.xlim(800,12000)\n",
    "plt.ylim(0,90)\n",
    "plt.xticks( [1000,2000,3000,4000,5000,6000,7000,8000,9000,10000],\n",
    "            [1,2,3,4,5,6,7,8,9,10])\n",
    "\n",
    "#Vergleich mit theoretischer Kurve\n",
    "plt.plot(omega/(2*np.pi),phi_theo,color='darkblue',linewidth=0.5,linestyle='--',label=r'$\\phi_{\\ theoretisch}$')\n",
    "plt.legend(frameon=True,fontsize='large')\n",
    "\n",
    "#Abspeichern des Bildes im Format \"PDF\"\n",
    "#plt.tight_layout()\n",
    "#plt.savefig('Diagramme/V241Diagramm20.pdf', format='PDF')"
   ]
  },
  {
   "cell_type": "code",
   "execution_count": 12,
   "metadata": {
    "collapsed": false
   },
   "outputs": [
    {
     "name": "stdout",
     "output_type": "stream",
     "text": [
      "Der Fit liefert eine Grenzfrequenz von freq_g = 3391.1992184 +/- 56.9768976862\n"
     ]
    },
    {
     "data": {
      "image/png": "[encoded data removed]",
      "text/plain": [
       "<matplotlib.figure.Figure at 0x10e128e80>"
      ]
     },
     "metadata": {},
     "output_type": "display_data"
    }
   ],
   "source": [
    "#Fitfunktion\n",
    "def function(freq,freq_grenz):\n",
    "    return np.arctan(freq_grenz/freq)*(360/(2*np.pi))\n",
    "\n",
    "plt.plot(freq, phi, marker='.',markersize=5, color='black',linewidth=1,linestyle=' ')\n",
    "plt.xscale('log')\n",
    "plt.errorbar(freq,phi,yerr=phi_err,linewidth=1,linestyle='',color='darkred',label='Messwerte mit Fehler')\n",
    "plt.xlabel('Frequenz ['+'$KHz$]', size=15)\n",
    "plt.ylabel('Phase'+ ' '+r'$\\phi$' + r' [°]' , size=15)\n",
    "plt.title(r'Diagramm 20: Phasenverschiebung $\\phi$ beim Hochpass ', size=14)\n",
    "plt.grid(ls='dotted')\n",
    "plt.xlim(800,12000)\n",
    "plt.ylim(0,90)\n",
    "plt.xticks( [1000,2000,3000,4000,5000,6000,7000,8000,9000,10000],\n",
    "            [1,2,3,4,5,6,7,8,9,10])\n",
    "\n",
    "#Fitten an die Daten\n",
    "popt,pcov=curve_fit(function,freq,phi,sigma=phi_err)\n",
    "freq_g=popt[0]\n",
    "freq_g_err=pcov[0,0]**0.5\n",
    "\n",
    "print('Der Fit liefert eine Grenzfrequenz von freq_g = '+str(freq_g)+' +/- '+str(freq_g_err))\n",
    "\n",
    "#Einzeichnen der Fit-Kurve\n",
    "plt.plot(freq,function(freq,popt[0]),color='darkblue',linewidth=0.5,linestyle='--',label=r'Fit-Kurve für $\\phi$')\n",
    "plt.legend(frameon=True,fontsize='large')\n",
    "\n",
    "#Abspeichern des Bildes im Format \"PDF\"\n",
    "plt.tight_layout()\n",
    "plt.savefig('Diagramme/V241Diagramm20.pdf', format='PDF')"
   ]
  },
  {
   "cell_type": "code",
   "execution_count": 13,
   "metadata": {
    "collapsed": false
   },
   "outputs": [
    {
     "data": {
      "text/plain": [
       "'\\n#Fitfunktion mit zwei Parametern\\ndef function(freq,freq_grenz,c):\\n    return np.arctan(freq_grenz/freq+c)*(360/(2*np.pi))\\n\\nplt.plot(freq, phi, marker=\\'.\\',markersize=5, color=\\'black\\',linewidth=1,linestyle=\\' \\')\\nplt.xscale(\\'log\\')\\nplt.errorbar(freq,phi,yerr=phi_err,linewidth=1,linestyle=\\'\\',color=\\'darkred\\',label=\\'Messwerte mit Fehler\\')\\nplt.xlabel(\\'Frequenz [\\'+\\'$KHz$]\\', size=15)\\nplt.ylabel(\\'Phase\\'+ \\' \\'+r\\'$\\\\phi$\\' + r\\' [°]\\' , size=15)\\nplt.title(r\\'Diagramm 20: Phasenverschiebung $\\\\phi$ beim Hochpass \\', size=14)\\nplt.grid(ls=\\'dotted\\')\\nplt.xlim(800,12000)\\nplt.ylim(0,90)\\nplt.xticks( [1000,2000,3000,4000,5000,6000,7000,8000,9000,10000],\\n            [1,2,3,4,5,6,7,8,9,10])\\n\\n#Fitten an die Daten\\npopt,pcov=curve_fit(function,freq,phi,sigma=phi_err)\\n\\nprint(popt)\\n#print(\\'Der Fit liefert eine Grenzfrequenz von freq_g = \\'+str(popt)+\\' +/- \\'+str(pcov[0,0]**0.5))\\n\\n#Einzeichnen der Fit-Kurve\\nplt.plot(freq,function(freq,*popt),color=\\'darkblue\\',linewidth=0.5,linestyle=\\'--\\',label=r\\'Fit-Kurve für $\\\\phi$\\')\\nplt.legend(frameon=True,fontsize=\\'large\\')\\n\\n#Abspeichern des Bildes im Format \"PDF\"\\n#plt.tight_layout()\\n#plt.savefig(\\'Diagramme/V241Diagramm20.pdf\\', format=\\'PDF\\')\\n'"
      ]
     },
     "execution_count": 13,
     "metadata": {},
     "output_type": "execute_result"
    }
   ],
   "source": [
    "\"\"\"\n",
    "#Fitfunktion mit zwei Parametern\n",
    "def function(freq,freq_grenz,c):\n",
    "    return np.arctan(freq_grenz/freq+c)*(360/(2*np.pi))\n",
    "\n",
    "plt.plot(freq, phi, marker='.',markersize=5, color='black',linewidth=1,linestyle=' ')\n",
    "plt.xscale('log')\n",
    "plt.errorbar(freq,phi,yerr=phi_err,linewidth=1,linestyle='',color='darkred',label='Messwerte mit Fehler')\n",
    "plt.xlabel('Frequenz ['+'$KHz$]', size=15)\n",
    "plt.ylabel('Phase'+ ' '+r'$\\phi$' + r' [°]' , size=15)\n",
    "plt.title(r'Diagramm 20: Phasenverschiebung $\\phi$ beim Hochpass ', size=14)\n",
    "plt.grid(ls='dotted')\n",
    "plt.xlim(800,12000)\n",
    "plt.ylim(0,90)\n",
    "plt.xticks( [1000,2000,3000,4000,5000,6000,7000,8000,9000,10000],\n",
    "            [1,2,3,4,5,6,7,8,9,10])\n",
    "\n",
    "#Fitten an die Daten\n",
    "popt,pcov=curve_fit(function,freq,phi,sigma=phi_err)\n",
    "\n",
    "print(popt)\n",
    "#print('Der Fit liefert eine Grenzfrequenz von freq_g = '+str(popt)+' +/- '+str(pcov[0,0]**0.5))\n",
    "\n",
    "#Einzeichnen der Fit-Kurve\n",
    "plt.plot(freq,function(freq,*popt),color='darkblue',linewidth=0.5,linestyle='--',label=r'Fit-Kurve für $\\phi$')\n",
    "plt.legend(frameon=True,fontsize='large')\n",
    "\n",
    "#Abspeichern des Bildes im Format \"PDF\"\n",
    "#plt.tight_layout()\n",
    "#plt.savefig('Diagramme/V241Diagramm20.pdf', format='PDF')\n",
    "\"\"\""
   ]
  },
  {
   "cell_type": "code",
   "execution_count": 14,
   "metadata": {
    "collapsed": false
   },
   "outputs": [
    {
     "name": "stdout",
     "output_type": "stream",
     "text": [
      "Aus der Fit ergibt sich die folgenden Grenzfrequenz:\n",
      "freq_g = 3391.1992184 +/- 56.9768976862\n",
      "\n",
      "Für die Differenz Theorie-Experiment folgt somit:\n",
      "∆(freq_g) = 181.199218396 +/- 160.456744545 => sigma= 1.12927143643\n"
     ]
    }
   ],
   "source": [
    "#Vergleich der gemessenen Grenzfrequenz mit dem optimalen Fit-Parameter\n",
    "print('Aus der Fit ergibt sich die folgenden Grenzfrequenz:')\n",
    "print('freq_g = ' + str(freq_g) + ' +/- ' + str(freq_g_err))\n",
    "print()\n",
    "\n",
    "diff_freq_g=np.abs(freq_g-freq_grenz_hp)\n",
    "diff_freq_g_err=np.sqrt((freq_g_err)**2+(freq_grenz_hp_err)**2)\n",
    "\n",
    "print('Für die Differenz Theorie-Experiment folgt somit:')\n",
    "print('∆(freq_g) = '+str(diff_freq_g)+' +/- '+str(diff_freq_g_err)+' => sigma= '+str(diff_freq_g/diff_freq_g_err))"
   ]
  },
  {
   "cell_type": "code",
   "execution_count": 15,
   "metadata": {
    "collapsed": false
   },
   "outputs": [
    {
     "name": "stdout",
     "output_type": "stream",
     "text": [
      "Für die Differenz Theorie-Experiment folgt somit für den Hochpass:\n",
      "∆(freq_g_hp) = 176.275384934 +/- 407.22937306 => sigma= 0.432865104031\n",
      "Für die Differenz Theorie-Experiment folgt somit für den Tiefpass:\n",
      "∆(freq_g_tp) = 356.275384934 +/- 407.22937306 => sigma= 0.874876441886\n"
     ]
    }
   ],
   "source": [
    "#Vergleich der gemessen Grenzfrequenzen mit den Theoriewerten\n",
    "freq_g_theo=1/(2*np.pi*R1*C3)\n",
    "freq_g_theo_err=freq_g_theo*((R1_err/R1)**2+(C3_err/C3)**2)**0.5\n",
    "\n",
    "diff_freq_g_hp=np.abs(freq_g_theo-freq_grenz_hp)\n",
    "diff_freq_g_hp_err=np.sqrt((freq_g_theo_err)**2+(freq_grenz_hp_err)**2)\n",
    "\n",
    "diff_freq_g_tp=np.abs(freq_g_theo-freq_grenz_tp)\n",
    "diff_freq_g_tp_err=np.sqrt((freq_g_theo_err)**2+(freq_grenz_tp_err)**2)\n",
    "\n",
    "print('Für die Differenz Theorie-Experiment folgt somit für den Hochpass:')\n",
    "print('∆(freq_g_hp) = '+str(diff_freq_g_hp)+' +/- '+str(diff_freq_g_hp_err)+' => sigma= '+str(diff_freq_g_hp/diff_freq_g_hp_err))\n",
    "\n",
    "print('Für die Differenz Theorie-Experiment folgt somit für den Tiefpass:')\n",
    "print('∆(freq_g_tp) = '+str(diff_freq_g_tp)+' +/- '+str(diff_freq_g_tp_err)+' => sigma= '+str(diff_freq_g_tp/diff_freq_g_tp_err))"
   ]
  },
  {
   "cell_type": "markdown",
   "metadata": {},
   "source": [
    "### Teil 4: Frequenzgang eines Serienschwingkreises"
   ]
  },
  {
   "cell_type": "markdown",
   "metadata": {},
   "source": [
    "#### Bestimmung der Induktivität $L_1$"
   ]
  },
  {
   "cell_type": "code",
   "execution_count": 16,
   "metadata": {
    "collapsed": false
   },
   "outputs": [
    {
     "name": "stdout",
     "output_type": "stream",
     "text": [
      "Die Grenzfrequenz wurde bestimmt auf:\n",
      "22996.4582243 +/- 418.879020479 +/- 410.415945652 s^-1\n"
     ]
    }
   ],
   "source": [
    "omega_res=2*np.pi*np.array([3.82e3,3.58e3,3.58e3])\n",
    "omega_res_err=2*np.pi*np.array([0.1e3,0.05e3,0.05e3])\n",
    "\n",
    "omega_res_mean=np.mean(omega_res)\n",
    "omega_res_mean_err=np.mean(omega_res_err)\n",
    "omega_res_mean_std=np.std(omega_res)/np.sqrt(len(omega_res))\n",
    "\n",
    "print('Die Grenzfrequenz wurde bestimmt auf:')\n",
    "print(str(omega_res_mean) + ' +/- ' + str(omega_res_mean_err) + ' +/- ' + str(omega_res_mean_std) + ' s^-1')"
   ]
  },
  {
   "cell_type": "code",
   "execution_count": 17,
   "metadata": {
    "collapsed": false
   },
   "outputs": [
    {
     "name": "stdout",
     "output_type": "stream",
     "text": [
      "Aus der ermittelten Grenzfrequenz folgt für die Induktivität:\n",
      "L1 = 0.040232797798 +/- 0.00408947814476 +/- 0.000718031515699 H\n"
     ]
    }
   ],
   "source": [
    "#Wir wissen omega_res=sqrt(1/(L*C)). Daraus folgt:\n",
    "\n",
    "L1=1/(omega_res_mean**2*C3)\n",
    "L1_err=L1*np.sqrt((omega_res_mean_err/omega_res_mean)**2+(C3_err/C3)**2)\n",
    "L1_std=L1*np.sqrt((omega_res_mean_std/omega_res_mean)**2)\n",
    "\n",
    "print('Aus der ermittelten Grenzfrequenz folgt für die Induktivität:')\n",
    "print('L1 = ' + str(L1) + ' +/- ' + str(L1_err) + ' +/- ' + str(L1_std) + ' H')"
   ]
  },
  {
   "cell_type": "markdown",
   "metadata": {},
   "source": [
    "#### Bestimmung des Verlustwiederstandes $R_V$"
   ]
  },
  {
   "cell_type": "code",
   "execution_count": 18,
   "metadata": {
    "collapsed": false
   },
   "outputs": [
    {
     "name": "stdout",
     "output_type": "stream",
     "text": [
      "Der Verlustwiderstand des jew. Schwingkreises beträgt\n",
      "Rv = [ 258.89481748  118.73876615  142.59259299] Ohm\n",
      " +/- [ 139.68896368   38.29186376   23.16590639] Ohm\n",
      "\n",
      "Daraus folgt für den jew. Gesamtwiderstand R + Rv:\n",
      "R + Rv = [ 1258.89481748   338.73876615   189.59259299] Ohm\n",
      " +/-     [ 148.36780841   39.84051744   23.28479588] Ohm\n"
     ]
    }
   ],
   "source": [
    "#Aus Anleitung: ∆omega=(R+Rv)/L1\n",
    "\n",
    "delta_omega=2*np.pi*np.array([4.98e3,1.34e3,0.75e3])\n",
    "delta_omega_err=2*np.pi*np.array([0.10e3,0.05e3,0.05e3])\n",
    "R=np.array([1000,220,47])\n",
    "R_err=0.05*R\n",
    "\n",
    "R_v=delta_omega*L1-R\n",
    "R_v_err=np.sqrt((delta_omega_err*L1)**2+(delta_omega*L1_err)**2+(R_err)**2)\n",
    "\n",
    "R_ges=R+R_v\n",
    "R_ges_err=np.sqrt(R_err**2+R_v_err**2)\n",
    "\n",
    "print('Der Verlustwiderstand des jew. Schwingkreises beträgt')\n",
    "print('Rv = ' + str(R_v) + ' Ohm')\n",
    "print(' +/- ' + str(R_v_err) + ' Ohm')\n",
    "print()\n",
    "print('Daraus folgt für den jew. Gesamtwiderstand R + Rv:')\n",
    "print('R + Rv = ' + str(R_ges) + ' Ohm')\n",
    "print(' +/-     ' + str(R_ges_err) + ' Ohm')"
   ]
  },
  {
   "cell_type": "markdown",
   "metadata": {},
   "source": [
    "#### Zusatzaufgabe für Physiker: Verlustwiderstand aus Spannungsmessung"
   ]
  },
  {
   "cell_type": "code",
   "execution_count": 19,
   "metadata": {
    "collapsed": false
   },
   "outputs": [
    {
     "name": "stdout",
     "output_type": "stream",
     "text": [
      "Aus der Spannungsmessung folgt für den jew. Verlustwiderstand: \n",
      "Rv = [ 531.25        220.          195.42105263] Ohm\n",
      " +/- [ 82.66871223  30.45210494  39.81305425] Ohm\n",
      "\n",
      "Für den Gesamtwiderstand folgt somit:\n",
      "R + Rv = [ 1531.25         440.           242.42105263] Ohm\n",
      " +/-     [ 96.61322881  32.37793532  39.88234934] Ohm\n"
     ]
    }
   ],
   "source": [
    "#Aus Anleitung: U_A = R/(R+Rv)*U_E\n",
    "\n",
    "U_E=0.98*np.ones(3)\n",
    "U_E_err=0.02*np.ones(3)\n",
    "\n",
    "U_A=np.array([0.64,0.49,0.19])\n",
    "U_A_err=0.03*np.ones(3)\n",
    "\n",
    "R_v2=R*(U_E/U_A-1)\n",
    "R_v2_err=np.sqrt((R_err*(U_E/U_A-1))**2+(R*U_E_err/U_A)**2+(R*U_E*U_A_err/U_A**2)**2)\n",
    "\n",
    "R_ges2=R+R_v2\n",
    "R_ges2_err=np.sqrt(R_err**2+R_v2_err**2)\n",
    "\n",
    "print('Aus der Spannungsmessung folgt für den jew. Verlustwiderstand: ')\n",
    "print('Rv = ' + str(R_v2) + ' Ohm')\n",
    "print(' +/- ' + str(R_v2_err) + ' Ohm')\n",
    "print()\n",
    "print('Für den Gesamtwiderstand folgt somit:')\n",
    "print('R + Rv = ' + str(R_ges2) + ' Ohm')\n",
    "print(' +/-     ' + str(R_ges2_err) + ' Ohm')"
   ]
  },
  {
   "cell_type": "markdown",
   "metadata": {},
   "source": [
    "### Teil 5: Bestimmung der Dämpfungskonstanten eines freien, gedämpften Schwingkreises"
   ]
  },
  {
   "cell_type": "markdown",
   "metadata": {
    "collapsed": true
   },
   "source": [
    "#### Bestimmung der Induktivität der Spule"
   ]
  },
  {
   "cell_type": "code",
   "execution_count": 20,
   "metadata": {
    "collapsed": false
   },
   "outputs": [
    {
     "name": "stdout",
     "output_type": "stream",
     "text": [
      "Aus der in Aufgabenteil 4 ermittelten Resonanzfrequenz folgt:\n",
      "L1 = 0.0420510023238 +/- 0.00424591504179 H\n"
     ]
    }
   ],
   "source": [
    "#Resonanzfrequenz aus Aufgabe 4\n",
    "L1_2=1/(omega_res[2]**2*C3)\n",
    "L1_2_err=L1_2*np.sqrt((omega_res_err[2]/omega_res[2])**2+(C3_err/C3)**2)\n",
    "\n",
    "print('Aus der in Aufgabenteil 4 ermittelten Resonanzfrequenz folgt:')\n",
    "print('L1 = ' + str(L1_2) + ' +/- ' + str(L1_2_err) + ' H')"
   ]
  },
  {
   "cell_type": "markdown",
   "metadata": {},
   "source": [
    "#### Logarithmisches Dekrement"
   ]
  },
  {
   "cell_type": "code",
   "execution_count": 21,
   "metadata": {
    "collapsed": false
   },
   "outputs": [
    {
     "name": "stdout",
     "output_type": "stream",
     "text": [
      "Das logarithmische Dekrement berechnet sich zu:\n",
      "Lambda = 0.481322715463 +/- 0.119429796022 +/- 0.0106498077533\n"
     ]
    }
   ],
   "source": [
    "#Oh man sind wir dumm, da muss nochmal gemessen werden...\n",
    "\n",
    "A=np.array([3.84,2.30,1.41,0.89,0.56]) #Volt\n",
    "A_err=0.10*np.ones(5)\n",
    "\n",
    "Lambda=[]\n",
    "Lambda_err=[]\n",
    "for i in range(4):\n",
    "    Lambda.append(np.log(A[i]/A[i+1]))\n",
    "    Lambda_err.append(np.sqrt((A_err[0]/A[i])**2+(A_err[0]/A[i+1])**2))\n",
    "\n",
    "\n",
    "Lambda_mean=np.mean(Lambda)\n",
    "Lambda_mean_err=np.mean(Lambda_err)\n",
    "Lambda_mean_std=np.std(Lambda)/np.sqrt(len(Lambda))\n",
    "print('Das logarithmische Dekrement berechnet sich zu:')\n",
    "print('Lambda = ' + str(Lambda_mean) + ' +/- ' + str(Lambda_mean_err) + ' +/- ' + str(Lambda_mean_std))\n",
    "\n",
    "#Es fehlt die Messung der Periodendauer um die Dämpfung zu ermitteln :(\n",
    "#Kommt am Montag.."
   ]
  },
  {
   "cell_type": "markdown",
   "metadata": {},
   "source": [
    "### Teil 6: Resonanzüberhöhung"
   ]
  },
  {
   "cell_type": "markdown",
   "metadata": {
    "collapsed": true
   },
   "source": [
    "#### Resonanzfrequenzen am Serienschwingkreis"
   ]
  },
  {
   "cell_type": "code",
   "execution_count": 22,
   "metadata": {
    "collapsed": false
   },
   "outputs": [
    {
     "name": "stdout",
     "output_type": "stream",
     "text": [
      "Die theoretische Resonanzfrequenz ergibt sich aus dem Aufbau zu: \n",
      "omega_res_theo = 22996.4582243 +/- 3279.0549631 +/- 3072.15122492 s^-1\n"
     ]
    }
   ],
   "source": [
    "#Theoretischer Wert\n",
    "omega_res_theo=1/np.sqrt(L1*C3)\n",
    "omega_res_theo_err=omega_res_theo*np.sqrt((C3_err/C3)**2+(L1_err/L1)**2)\n",
    "omega_res_theo_std=omega_res_theo*np.sqrt((L1_std/L1))\n",
    "\n",
    "print('Die theoretische Resonanzfrequenz ergibt sich aus dem Aufbau zu: ')\n",
    "print('omega_res_theo = ' + str(omega_res_theo) + ' +/- ' + str(omega_res_theo_err) + ' +/- ' + str(omega_res_theo_std) + ' s^-1')"
   ]
  },
  {
   "cell_type": "code",
   "execution_count": 23,
   "metadata": {
    "collapsed": true
   },
   "outputs": [],
   "source": [
    "#Resonanzfrequenz aus Abgriff an Widerstand, Kondensator und Spule\n",
    "omega_res_R=2*np.pi*3.70e3\n",
    "omega_res_C=2*np.pi*3.60e3\n",
    "omega_res_L=2*np.pi*3.82e3\n",
    "\n",
    "omega_res2_err=2*np.pi*0.05e3"
   ]
  },
  {
   "cell_type": "markdown",
   "metadata": {},
   "source": [
    "#### Vergleich der Werte"
   ]
  },
  {
   "cell_type": "code",
   "execution_count": 24,
   "metadata": {
    "collapsed": false
   },
   "outputs": [
    {
     "name": "stdout",
     "output_type": "stream",
     "text": [
      "Der Vergleich aus Messwert und Theorie liefert:\n",
      "∆omega_R = 251.327412287 +/- 3294.07005011 +/- 3072.15122492 s^-1\n",
      "∆omega_C = 376.991118431 +/- 3294.07005011 +/- 3072.15122492 s^-1\n",
      "∆omega_L = 1005.30964915 +/- 3294.07005011 +/- 3072.15122492 s^-1\n"
     ]
    }
   ],
   "source": [
    "diff_omega_R=np.abs(omega_res_theo-omega_res_R)\n",
    "diff_omega_C=np.abs(omega_res_theo-omega_res_C)\n",
    "diff_omega_L=np.abs(omega_res_theo-omega_res_L)\n",
    "\n",
    "diff_err=np.sqrt(omega_res_theo_err**2+omega_res2_err**2)\n",
    "diff_std=omega_res_theo_std\n",
    "\n",
    "print('Der Vergleich aus Messwert und Theorie liefert:')\n",
    "print('∆omega_R = ' + str(diff_omega_R) + ' +/- ' + str(diff_err) + ' +/- ' + str(diff_std) + ' s^-1')\n",
    "print('∆omega_C = ' + str(diff_omega_C) + ' +/- ' + str(diff_err) + ' +/- ' + str(diff_std) + ' s^-1')\n",
    "print('∆omega_L = ' + str(diff_omega_L) + ' +/- ' + str(diff_err) + ' +/- ' + str(diff_std) + ' s^-1')"
   ]
  },
  {
   "cell_type": "markdown",
   "metadata": {},
   "source": [
    "### Teil 7: Bandsperre"
   ]
  },
  {
   "cell_type": "code",
   "execution_count": 25,
   "metadata": {
    "collapsed": true
   },
   "outputs": [],
   "source": [
    "#Theoretischer Wert \n",
    "omega_res_bp_theo=omega_res[0]\n",
    "omega_res_bp_theo_err=omega_res_err[0]\n",
    "\n",
    "#Messwert\n",
    "omega_res_bp=2*np.pi*3.80e3\n",
    "omega_res_bp_err=omega_res2_err"
   ]
  },
  {
   "cell_type": "markdown",
   "metadata": {
    "collapsed": true
   },
   "source": [
    "#### Vergleich der Werte"
   ]
  },
  {
   "cell_type": "code",
   "execution_count": 26,
   "metadata": {
    "collapsed": false
   },
   "outputs": [
    {
     "name": "stdout",
     "output_type": "stream",
     "text": [
      "Der Vergleich aus Messwert und Theorie liefert:\n",
      "∆omega_bp = 125.663706144 +/- 702.481473104 s^-1\n"
     ]
    }
   ],
   "source": [
    "diff_omega_bp=np.abs(omega_res_bp_theo-omega_res_bp)\n",
    "diff_omega_bp_err=np.sqrt(omega_res_bp_err**2+omega_res_bp_theo_err**2)\n",
    "\n",
    "print('Der Vergleich aus Messwert und Theorie liefert:')\n",
    "print('∆omega_bp = ' + str(diff_omega_bp) + ' +/- ' + str(diff_omega_bp_err) + ' s^-1')"
   ]
  },
  {
   "cell_type": "markdown",
   "metadata": {},
   "source": [
    "### Teil 8: Signalformung"
   ]
  },
  {
   "cell_type": "markdown",
   "metadata": {
    "collapsed": true
   },
   "source": [
    "Aus den generierten Ausdrucken wird die Schaltung mit der besten Filterung des 4 kHz-Signals ausgewählt.\n",
    "\n",
    "$\\rightarrow$ Am besten ist die Filterung für den Bandpassfilter mit $R=47 \\ \\Omega$."
   ]
  },
  {
   "cell_type": "markdown",
   "metadata": {},
   "source": [
    "#### Vergleich der Dämpfung des $4 \\ kHz$ - Signals"
   ]
  },
  {
   "cell_type": "code",
   "execution_count": 27,
   "metadata": {
    "collapsed": true
   },
   "outputs": [],
   "source": [
    "signal=-10.63 #dBV\n",
    "\n",
    "signal_damped_hp=-13.44\n",
    "signal_damped_tp=9.23\n",
    "\n",
    "signal_damped_bp1=-11.56\n",
    "signal_damped_bp2=-31.25\n",
    "\n",
    "#Verhältnisse\n",
    "v_hp=signal/signal_damped_hp\n",
    "v_tp=signal/signal_damped_tp\n",
    "\n",
    "v_bp1=signal/signal_damped_bp1\n",
    "v_bp2=signal/signal_damped_bp2"
   ]
  },
  {
   "cell_type": "markdown",
   "metadata": {
    "collapsed": true
   },
   "source": [
    "#### Vergleich des $100 \\ Hz$-Signals beim Hochpass mit Aufgabenteil 3"
   ]
  },
  {
   "cell_type": "code",
   "execution_count": 28,
   "metadata": {
    "collapsed": true
   },
   "outputs": [],
   "source": [
    "signal_100Hz=-2.5 #dBV\n",
    "\n",
    "signal_100Hz_hp=-31.56 #dbV"
   ]
  },
  {
   "cell_type": "markdown",
   "metadata": {},
   "source": [
    "### Teil 9: Aufbau eines AM-Empfängers"
   ]
  },
  {
   "cell_type": "markdown",
   "metadata": {},
   "source": [
    "Dieser Aufgabenteil wird in schriftlicher Form im Messprotokoll kommentiert."
   ]
  }
 ],
 "metadata": {
  "kernelspec": {
   "display_name": "Python 3",
   "language": "python",
   "name": "python3"
  },
  "language_info": {
   "codemirror_mode": {
    "name": "ipython",
    "version": 3
   },
   "file_extension": ".py",
   "mimetype": "text/x-python",
   "name": "python",
   "nbconvert_exporter": "python",
   "pygments_lexer": "ipython3",
   "version": "3.6.0"
  }
 },
 "nbformat": 4,
 "nbformat_minor": 2
}
