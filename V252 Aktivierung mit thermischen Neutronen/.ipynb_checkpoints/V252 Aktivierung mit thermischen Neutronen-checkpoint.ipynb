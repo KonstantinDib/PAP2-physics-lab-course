{
 "cells": [
  {
   "cell_type": "markdown",
   "metadata": {},
   "source": [
    "# V252: Aktivierung von thermischen Neutronen"
   ]
  },
  {
   "cell_type": "markdown",
   "metadata": {},
   "source": [
    "## Auswertung der Messergebnisse"
   ]
  },
  {
   "cell_type": "code",
   "execution_count": 3,
   "metadata": {
    "collapsed": true
   },
   "outputs": [],
   "source": [
    "#Benötigte Pakete\n",
    "import numpy as np\n",
    "import matplotlib.pyplot as plt\n",
    "%matplotlib inline \n",
    "from scipy.optimize import curve_fit\n",
    "from scipy.stats import chi2\n",
    "\n",
    "plt.rcParams[\"font.family\"]='serif'\n",
    "plt.rcParams[\"figure.figsize\"][0] = 14\n",
    "plt.rcParams[\"figure.figsize\"][1] = 9\n",
    "plt.rcParams['errorbar.capsize']=2"
   ]
  },
  {
   "cell_type": "markdown",
   "metadata": {},
   "source": [
    "### Teil 1: Halbwertszeit von Silber"
   ]
  },
  {
   "cell_type": "code",
   "execution_count": null,
   "metadata": {
    "collapsed": false
   },
   "outputs": [],
   "source": [
    "#Bestimmung des Untergrundes aus Messdaten\n",
    "ug=np.loadtxt('Messdaten/V252MessdatenUGSilber.dat', usecols=[1])\n",
    "\n",
    "#Untergrund muss wegen Addition um Faktor vier erhöht werden\n",
    "ug_mean=np.mean(4*ug)\n",
    "ug_mean_err=np.std(4*ug)/np.sqrt(len(ug))\n",
    "\n",
    "print('Für die Untergrundrate ergibt sich:')\n",
    "print('ug_mean = (' + str(ug_mean) + ' +/- ' + str(ug_mean_err) + ') ' )"
   ]
  },
  {
   "cell_type": "markdown",
   "metadata": {},
   "source": [
    "#### Bestimmung der Zerfallskonstanten"
   ]
  },
  {
   "cell_type": "code",
   "execution_count": null,
   "metadata": {
    "collapsed": true
   },
   "outputs": [],
   "source": [
    "#Daten aus den vier Zerfallsmessungen\n",
    "\n",
    "n1=np.loadtxt('Messdaten/V252MessdatenSilber1.dat', usecols=[1])\n",
    "n2=np.loadtxt('Messdaten/V252MessdatenSilber2.dat', usecols=[1])\n",
    "n3=np.loadtxt('Messdaten/V252MessdatenSilber3.dat', usecols=[1])\n",
    "n4=np.loadtxt('Messdaten/V252MessdatenSilber4.dat', usecols=[1])\n",
    "\n",
    "N=n1+n2+n3+n4\n",
    "N_err=np.sqrt(N)\n",
    "\n",
    "#Zerfallszeiten\n",
    "t=np.arange(5,405,10)"
   ]
  },
  {
   "cell_type": "code",
   "execution_count": null,
   "metadata": {
    "collapsed": true
   },
   "outputs": [],
   "source": [
    "#Plot der Messdaten\n",
    "plt.errorbar(t, N, yerr=N_err,linewidth=1,linestyle='',marker='.',color='darkblue', label='Messwerte mit Fehler')\n",
    "plt.xlabel(r'Zeit $ t$  [s]', size=20)\n",
    "plt.ylabel(r'Anzahl der Zerfälle', size=20)\n",
    "plt.yscale('log')\n",
    "plt.title(r'Diagramm 1: Zerfall von Silber mit Untergrund', size=22)\n",
    "plt.grid(ls='dotted')\n",
    "plt.legend(frameon=True,fontsize='large', borderpad=1.5, borderaxespad=1.5)\n",
    "\n",
    "#Abspeichern des Bildes im Format \"PDF\"\n",
    "plt.tight_layout()\n",
    "plt.savefig('Diagramme/V252Diagramm1.pdf', format='PDF')"
   ]
  },
  {
   "cell_type": "code",
   "execution_count": null,
   "metadata": {
    "collapsed": true
   },
   "outputs": [],
   "source": [
    "#Fit der Messdaten\n",
    "y0=ug_mean\n",
    "\n",
    "def fit_silver(x,A1,l1,A2,l2):\n",
    "    return A1*np.exp(-x*l1) +A2*np.exp(-x*l2) + y0\n",
    "\n",
    "#Startparameter\n",
    "p=[500,0.02,50,0.001]  #Werte an unsere Messung anpassen\n",
    "\n",
    "popt,pcov=curve_fit(fit_silver,t,N, p0=p, sigma=N_err, maxfev=5000)"
   ]
  },
  {
   "cell_type": "code",
   "execution_count": null,
   "metadata": {
    "collapsed": true
   },
   "outputs": [],
   "source": [
    "#Plot der Messdaten mit Fit\n",
    "plt.errorbar(t, N, yerr=N_err,linewidth=1,linestyle='',marker='.',color='darkblue', label='Messwerte mit Fehler')\n",
    "plt.plot(t,fit_silver(t,*popt),linewidth=0.5,color='darkred',label='Fit-Kurve')\n",
    "plt.xlabel(r'Zeit $ t$  [s]', size=20)\n",
    "plt.ylabel(r'Anzahl der Zerfälle', size=20)\n",
    "plt.yscale('log')\n",
    "plt.title(r'Diagramm 2: Zerfall von Silber mit Untergrund und Fit', size=22)\n",
    "plt.grid(ls='dotted')\n",
    "plt.legend(frameon=True,fontsize='large', borderpad=1.5, borderaxespad=1.5)\n",
    "\n",
    "#Abspeichern des Bildes im Format \"PDF\"\n",
    "plt.tight_layout()\n",
    "plt.savefig('Diagramme/V252Diagramm2.pdf', format='PDF')"
   ]
  },
  {
   "cell_type": "code",
   "execution_count": null,
   "metadata": {
    "collapsed": true
   },
   "outputs": [],
   "source": [
    "#Ausgabe der Fitparameter\n",
    "print('Der Fit an unsere Messdaten liefert die folgenden Werte: ')\n",
    "print('A1 = (' + str(popt[0]) + ' +/- ' + str(np.sqrt(pcov[0,0])) + ')' )\n",
    "print('l1 = (' + str(popt[1]) + ' +/- ' + str(np.sqrt(pcov[1,1])) + ')' )\n",
    "print('A2 = (' + str(popt[2]) + ' +/- ' + str(np.sqrt(pcov[2,2])) + ')' )\n",
    "print('l2 = (' + str(popt[3]) + ' +/- ' + str(np.sqrt(pcov[3,3])) + ')' )"
   ]
  },
  {
   "cell_type": "code",
   "execution_count": null,
   "metadata": {
    "collapsed": true
   },
   "outputs": [],
   "source": [
    "#Güte des Gauß-Fits\n",
    "chi_squared=np.sum((fit_silver(t,*popt)-N)**2/N_err**2)\n",
    "\n",
    "#Freiheitsgrade\n",
    "dof=len(N)-4\n",
    "\n",
    "chi_squared_red=chi_squared/dof\n",
    "\n",
    "print('Wir erhalten die nachfolgenden Werte für die Güte des Fits:')\n",
    "print('chi_squared= ' + str(chi_squared))\n",
    "print('chi_squared_red= ' + str(chi_squared_red))\n",
    "print()\n",
    "\n",
    "#Fitwahrscheinlichkeit\n",
    "prob=round(1-chi2.cdf(chi_squared,dof),2)*100\n",
    "\n",
    "print('Die Fitwahrscheinlichkeit beträgt: ' + str(prob) + ' %')"
   ]
  },
  {
   "cell_type": "markdown",
   "metadata": {},
   "source": [
    "#### Korrektur des Fits "
   ]
  },
  {
   "cell_type": "code",
   "execution_count": null,
   "metadata": {
    "collapsed": true
   },
   "outputs": [],
   "source": [
    "# a) Subtraktion des 1-Sigma-Fehlers vom Untergrund"
   ]
  },
  {
   "cell_type": "code",
   "execution_count": null,
   "metadata": {
    "collapsed": true
   },
   "outputs": [],
   "source": [
    "# b) Addition des 1-Sigma-Fehlers vom Untergrund"
   ]
  },
  {
   "cell_type": "code",
   "execution_count": 1,
   "metadata": {
    "collapsed": true
   },
   "outputs": [],
   "source": [
    "#Korrektur der Zerfallskonstanten"
   ]
  },
  {
   "cell_type": "markdown",
   "metadata": {},
   "source": [
    "### Teil 2: Halbwertszeit von Indium"
   ]
  },
  {
   "cell_type": "code",
   "execution_count": 6,
   "metadata": {
    "collapsed": false
   },
   "outputs": [],
   "source": [
    "#Untergrund analog zum ersten Aufgabenteil\n",
    "\n",
    "#Messdaten\n",
    "N2=n1=np.loadtxt('Messdaten/V252MessdatenIndium1.dat', usecols=[1])\n",
    "N2_err=np.sqrt(N)\n",
    "\n",
    "#Zerfallszeite\n",
    "t2=np.arange(5,50*60+5,120) #Stimmt das?"
   ]
  },
  {
   "cell_type": "code",
   "execution_count": null,
   "metadata": {
    "collapsed": true
   },
   "outputs": [],
   "source": [
    "#Plot der Messdaten\n",
    "plt.errorbar(t2, N2, yerr=N2_err,linewidth=1,linestyle='',marker='.',color='darkblue', label='Messwerte mit Fehler')\n",
    "plt.xlabel(r'Zeit $ t$  [s]', size=20)\n",
    "plt.ylabel(r'Anzahl der Zerfälle', size=20)\n",
    "plt.yscale('log')\n",
    "plt.title(r'Diagramm 3: Zerfall von Indium mit Untergrund', size=22)\n",
    "plt.grid(ls='dotted')\n",
    "plt.legend(frameon=True,fontsize='large', borderpad=1.5, borderaxespad=1.5)\n",
    "\n",
    "#Abspeichern des Bildes im Format \"PDF\"\n",
    "plt.tight_layout()\n",
    "plt.savefig('Diagramme/V252Diagramm3.pdf', format='PDF')"
   ]
  },
  {
   "cell_type": "code",
   "execution_count": null,
   "metadata": {
    "collapsed": true
   },
   "outputs": [],
   "source": [
    "#Fit der Messdaten mit Expontentialfunktion \n",
    "def fit_indium(x,a,b,c):\n",
    "    return a*np.exp(b*x) + c\n",
    "\n",
    "p2=[] #Hier noch Startparameter eintragen\n",
    "popt2,pcov2=curve_fit(fit_indium,t2,N2, p0=p2 sigma=N2_err)\n",
    "\n",
    "#Achtung: eventuell ersten Messwert auslassen, falls Grund für Abweichung bekannt"
   ]
  },
  {
   "cell_type": "code",
   "execution_count": null,
   "metadata": {
    "collapsed": true
   },
   "outputs": [],
   "source": [
    "#Plot der Messdaten mit Fit\n",
    "plt.errorbar(t2, N2, yerr=N2_err,linewidth=1,linestyle='',marker='.',color='darkblue', label='Messwerte mit Fehler')\n",
    "plt.plot(t2,fit_indium(t2,*popt2),linewidth=0.5,color='darkred',label='Fit-Kurve')\n",
    "plt.xlabel(r'Zeit $ t$  [s]', size=20)\n",
    "plt.ylabel(r'Anzahl der Zerfälle', size=20)\n",
    "plt.yscale('log')\n",
    "plt.title(r'Diagramm 4: Zerfall von Indium mit Untergrund und Fit', size=22)\n",
    "plt.grid(ls='dotted')\n",
    "plt.legend(frameon=True,fontsize='large', borderpad=1.5, borderaxespad=1.5)\n",
    "\n",
    "#Abspeichern des Bildes im Format \"PDF\"\n",
    "plt.tight_layout()\n",
    "plt.savefig('Diagramme/V252Diagramm4.pdf', format='PDF')"
   ]
  },
  {
   "cell_type": "code",
   "execution_count": null,
   "metadata": {
    "collapsed": true
   },
   "outputs": [],
   "source": [
    "#Ausgabe der Fitparameter\n",
    "print('Der Fit an unsere Messdaten liefert die folgenden Werte: ')\n",
    "print('a = (' + str(popt2[0]) + ' +/- ' + str(np.sqrt(pcov2[0,0])) + ')' )\n",
    "print('b = (' + str(popt2[1]) + ' +/- ' + str(np.sqrt(pcov2[1,1])) + ')' )\n",
    "print('c = (' + str(popt2[2]) + ' +/- ' + str(np.sqrt(pcov2[2,2])) + ')' )"
   ]
  },
  {
   "cell_type": "code",
   "execution_count": null,
   "metadata": {
    "collapsed": true
   },
   "outputs": [],
   "source": [
    "#Güte des Gauß-Fits\n",
    "chi_squared2=np.sum((fit_indium(t2,*popt2)-N2)**2/N2_err**2)\n",
    "\n",
    "#Freiheitsgrade\n",
    "dof2=len(N2)-3\n",
    "\n",
    "chi_squared_red2=chi_squared2/dof2\n",
    "\n",
    "print('Wir erhalten die nachfolgenden Werte für die Güte des Fits:')\n",
    "print('chi_squared= ' + str(chi_squared2))\n",
    "print('chi_squared_red= ' + str(chi_squared_red2))\n",
    "print()\n",
    "\n",
    "#Fitwahrscheinlichkeit\n",
    "prob2=round(1-chi2.cdf(chi_squared2,dof2),2)*100\n",
    "\n",
    "print('Die Fitwahrscheinlichkeit beträgt: ' + str(prob2) + ' %')"
   ]
  }
 ],
 "metadata": {
  "kernelspec": {
   "display_name": "Python 3",
   "language": "python",
   "name": "python3"
  },
  "language_info": {
   "codemirror_mode": {
    "name": "ipython",
    "version": 3
   },
   "file_extension": ".py",
   "mimetype": "text/x-python",
   "name": "python",
   "nbconvert_exporter": "python",
   "pygments_lexer": "ipython3",
   "version": "3.6.0"
  }
 },
 "nbformat": 4,
 "nbformat_minor": 2
}
